{
 "cells": [
  {
   "cell_type": "markdown",
   "id": "ffe0998a",
   "metadata": {},
   "source": [
    "# FFNN\n",
    "Aseries of linear layer followed by non-linear activation function that map input features to output prediction\n",
    "\n",
    "It is called feed forward because data flows in one direction: *input -> hidden layers -> output*"
   ]
  },
  {
   "cell_type": "code",
   "execution_count": 1,
   "id": "fb8463bd",
   "metadata": {},
   "outputs": [],
   "source": [
    "import torch\n",
    "import torch.nn as nn\n",
    "\n",
    "class SimpleFFNN(nn.Module):\n",
    "    def __init__(self, input_dim = 10, hidden_dim = 64, output_dim = 3):\n",
    "        super().__init__()\n",
    "        self.net = nn.Sequential(\n",
    "            nn.Linear(input_dim, hidden_dim),\n",
    "            nn.ReLU(),\n",
    "            nn.Linear(hidden_dim, output_dim)\n",
    "            )\n",
    "\n",
    "    def forward(self, x):\n",
    "        return self.net(x)"
   ]
  },
  {
   "cell_type": "markdown",
   "id": "aa503716",
   "metadata": {},
   "source": [
    "# ReLU\n",
    "Rectified Linear Unit(ReLU)\n",
    "\n",
    "        ReLU(x) = max(0,x)\n",
    "\n",
    "* Introduces non-linearity\n",
    "* Prevents vanishing gradients (compared to sigmod / tanh)\n",
    "* Fast and efficient"
   ]
  },
  {
   "cell_type": "code",
   "execution_count": 2,
   "id": "ab024b92",
   "metadata": {},
   "outputs": [
    {
     "name": "stdout",
     "output_type": "stream",
     "text": [
      "tensor([0., 0., 3.])\n"
     ]
    }
   ],
   "source": [
    "x = torch.tensor([-2.0, 0.0, 3.0])\n",
    "relu = nn.ReLU()\n",
    "print(f'{relu(x)}')"
   ]
  },
  {
   "cell_type": "markdown",
   "id": "09736db4",
   "metadata": {},
   "source": [
    "# Training Loop (Step-by-Step)\n",
    "\n",
    "Full Cycle\n",
    "1. Forward pass: Predict output\n",
    "2. Compute loss: Compare with target\n",
    "3. Backward pass: Calculate gradients\n",
    "4. Optimizer step: Update weights"
   ]
  },
  {
   "cell_type": "code",
   "execution_count": 5,
   "id": "dd01f790",
   "metadata": {},
   "outputs": [
    {
     "name": "stdout",
     "output_type": "stream",
     "text": [
      "epoch 0, loss: 1.0960\n",
      "epoch 10, loss: 1.0279\n",
      "epoch 20, loss: 0.9679\n",
      "epoch 30, loss: 0.9120\n",
      "epoch 40, loss: 0.8584\n",
      "epoch 50, loss: 0.8050\n",
      "epoch 60, loss: 0.7525\n",
      "epoch 70, loss: 0.7002\n",
      "epoch 80, loss: 0.6483\n",
      "epoch 90, loss: 0.5975\n"
     ]
    }
   ],
   "source": [
    "import torch\n",
    "import torch.optim as optim\n",
    "import torch.nn.functional as F\n",
    "\n",
    "model = SimpleFFNN(10, 64, 3)\n",
    "optimizer = optim.Adam(model.parameters(), lr = 1e-3)\n",
    "\n",
    "# Dummy batch\n",
    "inputs = torch.randn(32, 10)\n",
    "targets = torch.randint(0, 3, (32,))\n",
    "\n",
    "for epoch in range(100):\n",
    "    optimizer.zero_grad()\n",
    "    logits = model(inputs)\n",
    "    loss = F.cross_entropy(logits, targets)\n",
    "    loss.backward()\n",
    "    optimizer.step()\n",
    "\n",
    "    if epoch%10 == 0:\n",
    "        print(f\"epoch {epoch}, loss: {loss.item():.4f}\")"
   ]
  },
  {
   "cell_type": "markdown",
   "id": "3d247c13",
   "metadata": {},
   "source": [
    "# FFNNs inside Transformeers\n",
    "* After self-attentation gives context, each token vector is passed through a *position-wide FFNN*.\n",
    "* It's exactly this: *Linear -> ReLU -> Linear*\n",
    "* Done independently for each token"
   ]
  },
  {
   "cell_type": "code",
   "execution_count": 6,
   "id": "4307ff32",
   "metadata": {},
   "outputs": [
    {
     "ename": "NameError",
     "evalue": "name 'self' is not defined",
     "output_type": "error",
     "traceback": [
      "\u001b[0;31m---------------------------------------------------------------------------\u001b[0m",
      "\u001b[0;31mNameError\u001b[0m                                 Traceback (most recent call last)",
      "Cell \u001b[0;32mIn[6], line 1\u001b[0m\n\u001b[0;32m----> 1\u001b[0m \u001b[38;5;28;43mself\u001b[39;49m\u001b[38;5;241m.\u001b[39mffnn \u001b[38;5;241m=\u001b[39m nn\u001b[38;5;241m.\u001b[39mSequential(\n\u001b[1;32m      2\u001b[0m     nn\u001b[38;5;241m.\u001b[39mLinear(\u001b[38;5;241m768\u001b[39m, \u001b[38;5;241m3072\u001b[39m),\n\u001b[1;32m      3\u001b[0m     nn\u001b[38;5;241m.\u001b[39mReLU(),\n\u001b[1;32m      4\u001b[0m     nn\u001b[38;5;241m.\u001b[39mLinear(\u001b[38;5;241m3072\u001b[39m, \u001b[38;5;241m768\u001b[39m)\n\u001b[1;32m      5\u001b[0m )\n",
      "\u001b[0;31mNameError\u001b[0m: name 'self' is not defined"
     ]
    }
   ],
   "source": [
    "self.ffnn = nn.Sequential(\n",
    "    nn.Linear(768, 3072),\n",
    "    nn.ReLU(),\n",
    "    nn.Linear(3072, 768)\n",
    ")"
   ]
  },
  {
   "cell_type": "code",
   "execution_count": null,
   "id": "bf09824c",
   "metadata": {},
   "outputs": [],
   "source": []
  }
 ],
 "metadata": {
  "kernelspec": {
   "display_name": "transformers",
   "language": "python",
   "name": "python3"
  },
  "language_info": {
   "codemirror_mode": {
    "name": "ipython",
    "version": 3
   },
   "file_extension": ".py",
   "mimetype": "text/x-python",
   "name": "python",
   "nbconvert_exporter": "python",
   "pygments_lexer": "ipython3",
   "version": "3.10.12"
  }
 },
 "nbformat": 4,
 "nbformat_minor": 5
}
