{
 "cells": [
  {
   "cell_type": "markdown",
   "id": "57dc1145",
   "metadata": {},
   "source": [
    "# vectors\n",
    "Vectors is just an ordinary list of numbers it can represent.\n",
    "\n",
    "    1. pint in space\n",
    "    2. Feature vector in ML\n",
    "    3. Word embedding in NLP\n",
    "\n",
    "    eg. v = [2, 3, 5]\n"
   ]
  },
  {
   "cell_type": "code",
   "execution_count": 1,
   "id": "56d6c5a4",
   "metadata": {},
   "outputs": [
    {
     "name": "stderr",
     "output_type": "stream",
     "text": [
      "/home/rakshith/tutorial/Transformer/transformers/lib/python3.10/site-packages/torch/_subclasses/functional_tensor.py:276: UserWarning: Failed to initialize NumPy: No module named 'numpy' (Triggered internally at /pytorch/torch/csrc/utils/tensor_numpy.cpp:81.)\n",
      "  cpu = _conversion_method_template(device=torch.device(\"cpu\"))\n"
     ]
    }
   ],
   "source": [
    "# import methods\n",
    "import torch"
   ]
  },
  {
   "cell_type": "code",
   "execution_count": 2,
   "id": "175d1643",
   "metadata": {},
   "outputs": [
    {
     "name": "stdout",
     "output_type": "stream",
     "text": [
      "vector = tensor([2., 3., 4.])\n"
     ]
    }
   ],
   "source": [
    "V = torch.tensor([2.0,3.0, 4.0])\n",
    "print(f\"vector = {V}\")"
   ]
  },
  {
   "cell_type": "markdown",
   "id": "25714cf9",
   "metadata": {},
   "source": [
    "# Matrices\n",
    "Matrix is a rectangular array of numbers.\n",
    "\n",
    " -> Row = data points or tockens\n",
    " -> Columns = features or embedding dimentions\n",
    "\n",
    "eg:     M = [[1,2],[3,4],[5,6]]"
   ]
  },
  {
   "cell_type": "code",
   "execution_count": 4,
   "id": "d0755a7b",
   "metadata": {},
   "outputs": [
    {
     "name": "stdout",
     "output_type": "stream",
     "text": [
      "Matrix = tensor([[1., 2.],\n",
      "        [3., 4.]])\n"
     ]
    }
   ],
   "source": [
    "M = torch.tensor([[1.0, 2.0], [3.0, 4.0]])\n",
    "print(f\"Matrix = {M}\")"
   ]
  },
  {
   "cell_type": "markdown",
   "id": "a48f3e97",
   "metadata": {},
   "source": [
    "# Dot product\n",
    "Dot product of 2 vector a,b belongs to Real number\n",
    "\n",
    "* In transformers: Dot product is used to measure similarity between query and each key.\n",
    "                    \n",
    "                   The higher the dot product the more attention is paid to token.\n",
    "\n",
    "\n",
    "                    "
   ]
  },
  {
   "cell_type": "code",
   "execution_count": 6,
   "id": "51f993e7",
   "metadata": {},
   "outputs": [
    {
     "name": "stdout",
     "output_type": "stream",
     "text": [
      "Dot product = 32.0 \n",
      "Items = 32.0 \n"
     ]
    }
   ],
   "source": [
    "a = torch.tensor([1.0, 2.0, 3.0])\n",
    "b = torch.tensor([4.0, 5.0, 6.0])\n",
    "dot_product = torch.dot(a, b)\n",
    "\n",
    "print(f\"Dot product = {dot_product} \\nItems = {dot_product.item()} \")"
   ]
  },
  {
   "cell_type": "markdown",
   "id": "01732d60",
   "metadata": {},
   "source": [
    "# Matrix multipilication\n",
    "if A belongs to real number matrix of 2x3\n",
    "   B belongs to real number matrix of 3x2\n",
    "   Then C = AB belongs to rel number matrix 2x2\n",
    "\n",
    "This is used heavely in attention for projecting input into queries, keys, values."
   ]
  },
  {
   "cell_type": "code",
   "execution_count": 8,
   "id": "fada38ee",
   "metadata": {},
   "outputs": [
    {
     "name": "stdout",
     "output_type": "stream",
     "text": [
      "matrix multiplication of tensor([[1., 2., 3.],\n",
      "        [4., 5., 6.]]) x tensor([[1., 2.],\n",
      "        [3., 4.],\n",
      "        [5., 6.]]) = \ttensor([[22., 28.],\n",
      "        [49., 64.]])\n"
     ]
    }
   ],
   "source": [
    "A = torch.tensor([[1.0, 2.0, 3.0],\n",
    "                  [4.0, 5.0, 6.0]])\n",
    "B = torch.tensor([[1.0, 2.0],\n",
    "                  [3.0, 4.0],\n",
    "                  [5.0, 6.0]])\n",
    "C = torch.matmul(A, B)\n",
    "\n",
    "print(f\"matrix multiplication of {A} x {B} = \\t{C}\")"
   ]
  },
  {
   "cell_type": "markdown",
   "id": "71c03611",
   "metadata": {},
   "source": [
    "# Cosine Similarity function\n",
    "Dot product gives similarity but cosine similarity is better for comparing direction.\n",
    "\n",
    "cos(θ)= (a.b) / (∣∣a∣∣∣∣b∣∣)\n",
    "​\n",
    "\n"
   ]
  },
  {
   "cell_type": "code",
   "execution_count": 10,
   "id": "f68de8b0",
   "metadata": {},
   "outputs": [
    {
     "name": "stdout",
     "output_type": "stream",
     "text": [
      "Cosine similarity = 0.9746317863464355\n"
     ]
    }
   ],
   "source": [
    "def cosine_similarity(a,b):\n",
    "    return torch.dot(a,b)/(a.norm() * b.norm())\n",
    "\n",
    "a = torch.tensor([1.0, 2.0, 3.0])\n",
    "b = torch.tensor([4.0, 5.0, 6.0])\n",
    "\n",
    "print(f\"Cosine similarity = {cosine_similarity(a, b).item()}\")"
   ]
  },
  {
   "cell_type": "markdown",
   "id": "cba21b1b",
   "metadata": {},
   "source": [
    "# Assignment\n",
    "1. Compute dot product of a = [1, 2, 3] and b = [4, 5, 6]\n",
    "\n",
    "2. Multiply:\n",
    "\n",
    "python\n",
    "Copy\n",
    "Edit\n",
    "A = [[1, 2, 3],\n",
    "     [4, 5, 6]]\n",
    "B = [[1, 2],\n",
    "     [3, 4],\n",
    "     [5, 6]]\n",
    "3. Implement cosine_similarity(a, b)"
   ]
  },
  {
   "cell_type": "code",
   "execution_count": 12,
   "id": "543de403",
   "metadata": {},
   "outputs": [
    {
     "name": "stdout",
     "output_type": "stream",
     "text": [
      "dot product = 32.0\n",
      "Matrix multiplication = 32.0\n",
      "Cosine similarity = 0.9746317863464355\n"
     ]
    }
   ],
   "source": [
    "import torch\n",
    "a = torch.tensor([1.0, 2.0, 3.0])\n",
    "b = torch.tensor([4.0, 5.0, 6.0])\n",
    "\n",
    "# Dot\n",
    "print(f\"dot product = {torch.dot(a, b)}\")\n",
    "\n",
    "# Matrix multiplication\n",
    "print(f\"Matrix multiplication = {torch.matmul(a, b)}\")\n",
    "\n",
    "# Cosine similarity\n",
    "print(f\"Cosine similarity = {cosine_similarity(a,b)}\")"
   ]
  },
  {
   "cell_type": "code",
   "execution_count": null,
   "id": "f9f34de8",
   "metadata": {},
   "outputs": [],
   "source": []
  }
 ],
 "metadata": {
  "kernelspec": {
   "display_name": "transformers",
   "language": "python",
   "name": "python3"
  },
  "language_info": {
   "codemirror_mode": {
    "name": "ipython",
    "version": 3
   },
   "file_extension": ".py",
   "mimetype": "text/x-python",
   "name": "python",
   "nbconvert_exporter": "python",
   "pygments_lexer": "ipython3",
   "version": "3.10.12"
  }
 },
 "nbformat": 4,
 "nbformat_minor": 5
}
