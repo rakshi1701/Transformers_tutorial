{
 "cells": [
  {
   "cell_type": "markdown",
   "id": "9bd8a9f9",
   "metadata": {},
   "source": [
    "# Softmatrix \n",
    "Soft matrix is a function that converts raw scores into a probability distribution\n",
    "\n",
    "It is used in:\n",
    "\n",
    "    * Classification to represent models confidence\n",
    "    \n",
    "    * Self-attentation to normalize scores"
   ]
  },
  {
   "cell_type": "code",
   "execution_count": 4,
   "id": "3a826d79",
   "metadata": {},
   "outputs": [
    {
     "name": "stdout",
     "output_type": "stream",
     "text": [
      "softmax probability = tensor([0.6590, 0.2424, 0.0986])\n"
     ]
    }
   ],
   "source": [
    "import torch\n",
    "import torch.nn.functional as f\n",
    "\n",
    "logits = torch.tensor([2.0,1.0,0.1])\n",
    "probs = f.softmax(logits, dim = 0)\n",
    "print(f\"softmax probability = {probs}\")"
   ]
  },
  {
   "cell_type": "markdown",
   "id": "e7af73a6",
   "metadata": {},
   "source": [
    "# Logits\n",
    "Logits are row output of model before applying softmax\n",
    "\n",
    "They can be -> Any realnumber(+ve or -ve)\n",
    "\n",
    "            ->Used directely with crossEntropyLoss in pytorch\n",
    "\n",
    "*Why logits*\n",
    "They are more numerically stable for loss calculation\n",
    "\n",
    "Softmax + log can lead to precision issues if done seperately"
   ]
  },
  {
   "cell_type": "markdown",
   "id": "72ee6271",
   "metadata": {},
   "source": [
    "# CressEntropy\n",
    "used for Multi-class classification, sequence token prediction"
   ]
  },
  {
   "cell_type": "code",
   "execution_count": 11,
   "id": "1f7e42a2",
   "metadata": {},
   "outputs": [
    {
     "name": "stdout",
     "output_type": "stream",
     "text": [
      "crossEntropy loss = 0.5995743870735168\n"
     ]
    }
   ],
   "source": [
    "import torch\n",
    "import torch.nn as nn\n",
    "\n",
    "logits = torch.tensor([[1.2, 1.9, 2.5]])\n",
    "target = torch.tensor([2])\n",
    "\n",
    "loss_fn = nn.CrossEntropyLoss()\n",
    "loss = loss_fn(logits, target)\n",
    "\n",
    "print(f\"crossEntropy loss = {loss.item()}\")\n",
    "\n",
    "\n"
   ]
  },
  {
   "cell_type": "markdown",
   "id": "82f630b8",
   "metadata": {},
   "source": [
    "# Assignment\n",
    "\n",
    "## Compute Softmax (manually & in PyTorch)\n",
    "\n",
    "For:\n",
    "logits = [1.0, 2.0, 3.0]\n",
    "\n",
    "## Manual CrossEntropy\n",
    "If:\n",
    "logits = [1.0, 2.0, 3.0]\n",
    "target_class = 2"
   ]
  },
  {
   "cell_type": "code",
   "execution_count": 13,
   "id": "2758558a",
   "metadata": {},
   "outputs": [],
   "source": [
    "import torch.nn.functional as F\n",
    "logits = torch.tensor([1.0, 2.0, 3.0])\n",
    "softmax_vals = F.softmax(logits, dim=0)\n"
   ]
  },
  {
   "cell_type": "code",
   "execution_count": 14,
   "id": "7e3dcd4d",
   "metadata": {},
   "outputs": [
    {
     "name": "stdout",
     "output_type": "stream",
     "text": [
      "Loss: 0.40760594606399536\n"
     ]
    }
   ],
   "source": [
    "import torch\n",
    "import torch.nn as nn\n",
    "\n",
    "logits = torch.tensor([[1.0, 2.0, 3.0]])\n",
    "target = torch.tensor([2])\n",
    "\n",
    "loss_fn = nn.CrossEntropyLoss()\n",
    "loss = loss_fn(logits, target)\n",
    "print(\"Loss:\", loss.item())\n"
   ]
  },
  {
   "cell_type": "code",
   "execution_count": null,
   "id": "08c7d451",
   "metadata": {},
   "outputs": [],
   "source": []
  }
 ],
 "metadata": {
  "kernelspec": {
   "display_name": "transformers",
   "language": "python",
   "name": "python3"
  },
  "language_info": {
   "codemirror_mode": {
    "name": "ipython",
    "version": 3
   },
   "file_extension": ".py",
   "mimetype": "text/x-python",
   "name": "python",
   "nbconvert_exporter": "python",
   "pygments_lexer": "ipython3",
   "version": "3.10.12"
  }
 },
 "nbformat": 4,
 "nbformat_minor": 5
}
